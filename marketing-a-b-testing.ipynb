{
 "cells": [
  {
   "cell_type": "markdown",
   "id": "3bbf6717",
   "metadata": {
    "papermill": {
     "duration": 0.016368,
     "end_time": "2023-07-26T22:02:10.214863",
     "exception": false,
     "start_time": "2023-07-26T22:02:10.198495",
     "status": "completed"
    },
    "tags": []
   },
   "source": [
    "# A/B Testing for Marketing campaign"
   ]
  },
  {
   "cell_type": "markdown",
   "id": "87c9c5dc",
   "metadata": {
    "papermill": {
     "duration": 0.01766,
     "end_time": "2023-07-26T22:02:10.248450",
     "exception": false,
     "start_time": "2023-07-26T22:02:10.230790",
     "status": "completed"
    },
    "tags": []
   },
   "source": [
    "Marketing A/B testing dataset\n",
    "Marketing companies want to run successful campaigns, but the market is complex and several options can work. So normally they tun A/B tests, that is a randomized experimentation process wherein two or more versions of a variable (web page, page element, banner, etc.) are shown to different segments of people at the same time to determine which version leaves the maximum impact and drive business metrics.\n",
    "\n",
    "The companies are interested in answering two questions:\n",
    "\n",
    "- Would the campaign be successful?\n",
    "- If the campaign was successful, how much of that success could be attributed to the ads?\n",
    "\n",
    "With the second question in mind, we normally do an A/B test. The majority of the people will be exposed to ads (the experimental group). And a small portion of people (the control group) would instead see a Public Service Announcement (PSA) (or nothing) in the exact size and place the ad would normally be.\n",
    "\n",
    "The idea of the dataset is to analyze the groups, find if the ads were successful, how much the company can make from the ads, and if the difference between the groups is statistically significant.\n",
    "\n",
    "Data dictionary:\n",
    "\n",
    "- Index: Row index\n",
    "- user id: User ID (unique)\n",
    "- test group: If \"ad\" the person saw the advertisement, if \"psa\" they only saw the public service announcement\n",
    "- converted: If a person bought the product then True, else is False\n",
    "- total ads: Amount of ads seen by person\n",
    "- most ads day: Day that the person saw the biggest amount of ads\n",
    "- most ads hour: Hour of day that the person saw the biggest amount of ads"
   ]
  },
  {
   "cell_type": "markdown",
   "id": "8fe4c7f5",
   "metadata": {
    "papermill": {
     "duration": 0.015527,
     "end_time": "2023-07-26T22:02:10.279838",
     "exception": false,
     "start_time": "2023-07-26T22:02:10.264311",
     "status": "completed"
    },
    "tags": []
   },
   "source": [
    "# Loading Libraries"
   ]
  },
  {
   "cell_type": "code",
   "execution_count": 1,
   "id": "4f648272",
   "metadata": {
    "_cell_guid": "b1076dfc-b9ad-4769-8c92-a6c4dae69d19",
    "_uuid": "8f2839f25d086af736a60e9eeb907d3b93b6e0e5",
    "execution": {
     "iopub.execute_input": "2023-07-26T22:02:10.314689Z",
     "iopub.status.busy": "2023-07-26T22:02:10.314259Z",
     "iopub.status.idle": "2023-07-26T22:02:12.221196Z",
     "shell.execute_reply": "2023-07-26T22:02:12.219786Z"
    },
    "papermill": {
     "duration": 1.927547,
     "end_time": "2023-07-26T22:02:12.224140",
     "exception": false,
     "start_time": "2023-07-26T22:02:10.296593",
     "status": "completed"
    },
    "tags": []
   },
   "outputs": [
    {
     "name": "stderr",
     "output_type": "stream",
     "text": [
      "/opt/conda/lib/python3.10/site-packages/scipy/__init__.py:146: UserWarning: A NumPy version >=1.16.5 and <1.23.0 is required for this version of SciPy (detected version 1.23.5\n",
      "  warnings.warn(f\"A NumPy version >={np_minversion} and <{np_maxversion}\"\n"
     ]
    },
    {
     "name": "stdout",
     "output_type": "stream",
     "text": [
      "/kaggle/input/marketing-ab-testing/marketing_AB.csv\n"
     ]
    }
   ],
   "source": [
    "# This Python 3 environment comes with many helpful analytics libraries installed\n",
    "# It is defined by the kaggle/python Docker image: https://github.com/kaggle/docker-python\n",
    "# For example, here's several helpful packages to load\n",
    "\n",
    "import numpy as np # linear algebra\n",
    "import pandas as pd # data processing, CSV file I/O (e.g. pd.read_csv)\n",
    "\n",
    "import seaborn as sns\n",
    "import matplotlib.pyplot as plt\n",
    "%matplotlib inline\n",
    "\n",
    "# Input data files are available in the read-only \"../input/\" directory\n",
    "# For example, running this (by clicking run or pressing Shift+Enter) will list all files under the input directory\n",
    "\n",
    "import os\n",
    "for dirname, _, filenames in os.walk('/kaggle/input'):\n",
    "    for filename in filenames:\n",
    "        print(os.path.join(dirname, filename))\n",
    "\n",
    "# You can write up to 20GB to the current directory (/kaggle/working/) that gets preserved as output when you create a version using \"Save & Run All\" \n",
    "# You can also write temporary files to /kaggle/temp/, but they won't be saved outside of the current session"
   ]
  },
  {
   "cell_type": "markdown",
   "id": "5d43316f",
   "metadata": {
    "papermill": {
     "duration": 0.016131,
     "end_time": "2023-07-26T22:02:12.256570",
     "exception": false,
     "start_time": "2023-07-26T22:02:12.240439",
     "status": "completed"
    },
    "tags": []
   },
   "source": [
    "# Reading the data"
   ]
  },
  {
   "cell_type": "code",
   "execution_count": 2,
   "id": "484f9539",
   "metadata": {
    "execution": {
     "iopub.execute_input": "2023-07-26T22:02:12.292691Z",
     "iopub.status.busy": "2023-07-26T22:02:12.291972Z",
     "iopub.status.idle": "2023-07-26T22:02:13.256169Z",
     "shell.execute_reply": "2023-07-26T22:02:13.254898Z"
    },
    "papermill": {
     "duration": 0.986746,
     "end_time": "2023-07-26T22:02:13.260204",
     "exception": false,
     "start_time": "2023-07-26T22:02:12.273458",
     "status": "completed"
    },
    "tags": []
   },
   "outputs": [],
   "source": [
    "df = pd.read_csv(\"/kaggle/input/marketing-ab-testing/marketing_AB.csv\")"
   ]
  },
  {
   "cell_type": "markdown",
   "id": "d4c4d2e7",
   "metadata": {
    "papermill": {
     "duration": 0.01644,
     "end_time": "2023-07-26T22:02:13.293637",
     "exception": false,
     "start_time": "2023-07-26T22:02:13.277197",
     "status": "completed"
    },
    "tags": []
   },
   "source": [
    "# Initial inspection"
   ]
  },
  {
   "cell_type": "code",
   "execution_count": 3,
   "id": "f741be57",
   "metadata": {
    "execution": {
     "iopub.execute_input": "2023-07-26T22:02:13.327849Z",
     "iopub.status.busy": "2023-07-26T22:02:13.327362Z",
     "iopub.status.idle": "2023-07-26T22:02:13.352773Z",
     "shell.execute_reply": "2023-07-26T22:02:13.351435Z"
    },
    "papermill": {
     "duration": 0.045609,
     "end_time": "2023-07-26T22:02:13.355529",
     "exception": false,
     "start_time": "2023-07-26T22:02:13.309920",
     "status": "completed"
    },
    "tags": []
   },
   "outputs": [
    {
     "data": {
      "text/html": [
       "<div>\n",
       "<style scoped>\n",
       "    .dataframe tbody tr th:only-of-type {\n",
       "        vertical-align: middle;\n",
       "    }\n",
       "\n",
       "    .dataframe tbody tr th {\n",
       "        vertical-align: top;\n",
       "    }\n",
       "\n",
       "    .dataframe thead th {\n",
       "        text-align: right;\n",
       "    }\n",
       "</style>\n",
       "<table border=\"1\" class=\"dataframe\">\n",
       "  <thead>\n",
       "    <tr style=\"text-align: right;\">\n",
       "      <th></th>\n",
       "      <th>Unnamed: 0</th>\n",
       "      <th>user id</th>\n",
       "      <th>test group</th>\n",
       "      <th>converted</th>\n",
       "      <th>total ads</th>\n",
       "      <th>most ads day</th>\n",
       "      <th>most ads hour</th>\n",
       "    </tr>\n",
       "  </thead>\n",
       "  <tbody>\n",
       "    <tr>\n",
       "      <th>0</th>\n",
       "      <td>0</td>\n",
       "      <td>1069124</td>\n",
       "      <td>ad</td>\n",
       "      <td>False</td>\n",
       "      <td>130</td>\n",
       "      <td>Monday</td>\n",
       "      <td>20</td>\n",
       "    </tr>\n",
       "    <tr>\n",
       "      <th>1</th>\n",
       "      <td>1</td>\n",
       "      <td>1119715</td>\n",
       "      <td>ad</td>\n",
       "      <td>False</td>\n",
       "      <td>93</td>\n",
       "      <td>Tuesday</td>\n",
       "      <td>22</td>\n",
       "    </tr>\n",
       "    <tr>\n",
       "      <th>2</th>\n",
       "      <td>2</td>\n",
       "      <td>1144181</td>\n",
       "      <td>ad</td>\n",
       "      <td>False</td>\n",
       "      <td>21</td>\n",
       "      <td>Tuesday</td>\n",
       "      <td>18</td>\n",
       "    </tr>\n",
       "    <tr>\n",
       "      <th>3</th>\n",
       "      <td>3</td>\n",
       "      <td>1435133</td>\n",
       "      <td>ad</td>\n",
       "      <td>False</td>\n",
       "      <td>355</td>\n",
       "      <td>Tuesday</td>\n",
       "      <td>10</td>\n",
       "    </tr>\n",
       "    <tr>\n",
       "      <th>4</th>\n",
       "      <td>4</td>\n",
       "      <td>1015700</td>\n",
       "      <td>ad</td>\n",
       "      <td>False</td>\n",
       "      <td>276</td>\n",
       "      <td>Friday</td>\n",
       "      <td>14</td>\n",
       "    </tr>\n",
       "  </tbody>\n",
       "</table>\n",
       "</div>"
      ],
      "text/plain": [
       "   Unnamed: 0  user id test group  converted  total ads most ads day  \\\n",
       "0           0  1069124         ad      False        130       Monday   \n",
       "1           1  1119715         ad      False         93      Tuesday   \n",
       "2           2  1144181         ad      False         21      Tuesday   \n",
       "3           3  1435133         ad      False        355      Tuesday   \n",
       "4           4  1015700         ad      False        276       Friday   \n",
       "\n",
       "   most ads hour  \n",
       "0             20  \n",
       "1             22  \n",
       "2             18  \n",
       "3             10  \n",
       "4             14  "
      ]
     },
     "execution_count": 3,
     "metadata": {},
     "output_type": "execute_result"
    }
   ],
   "source": [
    "df.head()"
   ]
  },
  {
   "cell_type": "markdown",
   "id": "2afcbd91",
   "metadata": {
    "papermill": {
     "duration": 0.017179,
     "end_time": "2023-07-26T22:02:13.390035",
     "exception": false,
     "start_time": "2023-07-26T22:02:13.372856",
     "status": "completed"
    },
    "tags": []
   },
   "source": [
    "# Checking the datatypes\n",
    "\n",
    "We have 6 different features, some of them are type of int, 2 features are strings and the converted feature is type of boolean"
   ]
  },
  {
   "cell_type": "code",
   "execution_count": 4,
   "id": "5a933584",
   "metadata": {
    "execution": {
     "iopub.execute_input": "2023-07-26T22:02:13.428331Z",
     "iopub.status.busy": "2023-07-26T22:02:13.427850Z",
     "iopub.status.idle": "2023-07-26T22:02:13.844278Z",
     "shell.execute_reply": "2023-07-26T22:02:13.842707Z"
    },
    "papermill": {
     "duration": 0.440095,
     "end_time": "2023-07-26T22:02:13.847386",
     "exception": false,
     "start_time": "2023-07-26T22:02:13.407291",
     "status": "completed"
    },
    "tags": []
   },
   "outputs": [
    {
     "name": "stdout",
     "output_type": "stream",
     "text": [
      "<class 'pandas.core.frame.DataFrame'>\n",
      "RangeIndex: 588101 entries, 0 to 588100\n",
      "Data columns (total 7 columns):\n",
      " #   Column         Non-Null Count   Dtype \n",
      "---  ------         --------------   ----- \n",
      " 0   Unnamed: 0     588101 non-null  int64 \n",
      " 1   user id        588101 non-null  int64 \n",
      " 2   test group     588101 non-null  object\n",
      " 3   converted      588101 non-null  bool  \n",
      " 4   total ads      588101 non-null  int64 \n",
      " 5   most ads day   588101 non-null  object\n",
      " 6   most ads hour  588101 non-null  int64 \n",
      "dtypes: bool(1), int64(4), object(2)\n",
      "memory usage: 27.5+ MB\n"
     ]
    }
   ],
   "source": [
    "df.info()"
   ]
  },
  {
   "cell_type": "markdown",
   "id": "78b81512",
   "metadata": {
    "papermill": {
     "duration": 0.017044,
     "end_time": "2023-07-26T22:02:13.881748",
     "exception": false,
     "start_time": "2023-07-26T22:02:13.864704",
     "status": "completed"
    },
    "tags": []
   },
   "source": [
    "# Number of rows and columns\n",
    "\n",
    "Half a million entries in our dataset"
   ]
  },
  {
   "cell_type": "code",
   "execution_count": 5,
   "id": "ddc3c956",
   "metadata": {
    "execution": {
     "iopub.execute_input": "2023-07-26T22:02:13.920114Z",
     "iopub.status.busy": "2023-07-26T22:02:13.919200Z",
     "iopub.status.idle": "2023-07-26T22:02:13.928007Z",
     "shell.execute_reply": "2023-07-26T22:02:13.926472Z"
    },
    "papermill": {
     "duration": 0.033168,
     "end_time": "2023-07-26T22:02:13.932464",
     "exception": false,
     "start_time": "2023-07-26T22:02:13.899296",
     "status": "completed"
    },
    "tags": []
   },
   "outputs": [
    {
     "data": {
      "text/plain": [
       "(588101, 7)"
      ]
     },
     "execution_count": 5,
     "metadata": {},
     "output_type": "execute_result"
    }
   ],
   "source": [
    "df.shape"
   ]
  },
  {
   "cell_type": "code",
   "execution_count": 6,
   "id": "5a3cbbb0",
   "metadata": {
    "execution": {
     "iopub.execute_input": "2023-07-26T22:02:13.970132Z",
     "iopub.status.busy": "2023-07-26T22:02:13.969689Z",
     "iopub.status.idle": "2023-07-26T22:02:14.745801Z",
     "shell.execute_reply": "2023-07-26T22:02:14.744333Z"
    },
    "papermill": {
     "duration": 0.798738,
     "end_time": "2023-07-26T22:02:14.748469",
     "exception": false,
     "start_time": "2023-07-26T22:02:13.949731",
     "status": "completed"
    },
    "tags": []
   },
   "outputs": [
    {
     "name": "stdout",
     "output_type": "stream",
     "text": [
      "Is NA?\n",
      "Unnamed: 0       0\n",
      "user id          0\n",
      "test group       0\n",
      "converted        0\n",
      "total ads        0\n",
      "most ads day     0\n",
      "most ads hour    0\n",
      "dtype: int64\n",
      "Is NULL?\n",
      "Unnamed: 0       0\n",
      "user id          0\n",
      "test group       0\n",
      "converted        0\n",
      "total ads        0\n",
      "most ads day     0\n",
      "most ads hour    0\n",
      "dtype: int64\n"
     ]
    }
   ],
   "source": [
    "print(\"Is NA?\")\n",
    "print(df.isna().sum())\n",
    "print(\"Is NULL?\")\n",
    "print(df.isnull().sum())\n"
   ]
  },
  {
   "cell_type": "markdown",
   "id": "ede9a9ac",
   "metadata": {
    "papermill": {
     "duration": 0.019151,
     "end_time": "2023-07-26T22:02:14.784784",
     "exception": false,
     "start_time": "2023-07-26T22:02:14.765633",
     "status": "completed"
    },
    "tags": []
   },
   "source": [
    "# Preprossesing"
   ]
  },
  {
   "cell_type": "markdown",
   "id": "511abe23",
   "metadata": {
    "papermill": {
     "duration": 0.023966,
     "end_time": "2023-07-26T22:02:14.830127",
     "exception": false,
     "start_time": "2023-07-26T22:02:14.806161",
     "status": "completed"
    },
    "tags": []
   },
   "source": [
    "Convert the boolean True/False values, to int"
   ]
  },
  {
   "cell_type": "code",
   "execution_count": 7,
   "id": "da1bba0f",
   "metadata": {
    "execution": {
     "iopub.execute_input": "2023-07-26T22:02:14.875091Z",
     "iopub.status.busy": "2023-07-26T22:02:14.874165Z",
     "iopub.status.idle": "2023-07-26T22:02:14.883154Z",
     "shell.execute_reply": "2023-07-26T22:02:14.882132Z"
    },
    "papermill": {
     "duration": 0.035135,
     "end_time": "2023-07-26T22:02:14.885848",
     "exception": false,
     "start_time": "2023-07-26T22:02:14.850713",
     "status": "completed"
    },
    "tags": []
   },
   "outputs": [],
   "source": [
    "df[\"converted\"] = np.where(df[\"converted\"]==True, 1, 0)"
   ]
  },
  {
   "cell_type": "markdown",
   "id": "52b9bed4",
   "metadata": {
    "papermill": {
     "duration": 0.017012,
     "end_time": "2023-07-26T22:02:14.920097",
     "exception": false,
     "start_time": "2023-07-26T22:02:14.903085",
     "status": "completed"
    },
    "tags": []
   },
   "source": [
    "# Drop unecessary column"
   ]
  },
  {
   "cell_type": "code",
   "execution_count": 8,
   "id": "d9b873f5",
   "metadata": {
    "execution": {
     "iopub.execute_input": "2023-07-26T22:02:14.956925Z",
     "iopub.status.busy": "2023-07-26T22:02:14.956460Z",
     "iopub.status.idle": "2023-07-26T22:02:14.989272Z",
     "shell.execute_reply": "2023-07-26T22:02:14.988196Z"
    },
    "papermill": {
     "duration": 0.054855,
     "end_time": "2023-07-26T22:02:14.992058",
     "exception": false,
     "start_time": "2023-07-26T22:02:14.937203",
     "status": "completed"
    },
    "tags": []
   },
   "outputs": [],
   "source": [
    "df.drop('Unnamed: 0', axis=1, inplace=True)"
   ]
  },
  {
   "cell_type": "markdown",
   "id": "7f8cbe26",
   "metadata": {
    "papermill": {
     "duration": 0.017782,
     "end_time": "2023-07-26T22:02:15.030998",
     "exception": false,
     "start_time": "2023-07-26T22:02:15.013216",
     "status": "completed"
    },
    "tags": []
   },
   "source": [
    "# EDA\n",
    "Exploratory Data Analysis"
   ]
  },
  {
   "cell_type": "code",
   "execution_count": 9,
   "id": "2e181214",
   "metadata": {
    "execution": {
     "iopub.execute_input": "2023-07-26T22:02:15.068208Z",
     "iopub.status.busy": "2023-07-26T22:02:15.067747Z",
     "iopub.status.idle": "2023-07-26T22:02:15.487849Z",
     "shell.execute_reply": "2023-07-26T22:02:15.486651Z"
    },
    "papermill": {
     "duration": 0.442078,
     "end_time": "2023-07-26T22:02:15.490426",
     "exception": false,
     "start_time": "2023-07-26T22:02:15.048348",
     "status": "completed"
    },
    "tags": []
   },
   "outputs": [
    {
     "data": {
      "text/html": [
       "<div>\n",
       "<style scoped>\n",
       "    .dataframe tbody tr th:only-of-type {\n",
       "        vertical-align: middle;\n",
       "    }\n",
       "\n",
       "    .dataframe tbody tr th {\n",
       "        vertical-align: top;\n",
       "    }\n",
       "\n",
       "    .dataframe thead th {\n",
       "        text-align: right;\n",
       "    }\n",
       "</style>\n",
       "<table border=\"1\" class=\"dataframe\">\n",
       "  <thead>\n",
       "    <tr style=\"text-align: right;\">\n",
       "      <th></th>\n",
       "      <th>user id</th>\n",
       "      <th>test group</th>\n",
       "      <th>converted</th>\n",
       "      <th>total ads</th>\n",
       "      <th>most ads day</th>\n",
       "      <th>most ads hour</th>\n",
       "    </tr>\n",
       "  </thead>\n",
       "  <tbody>\n",
       "    <tr>\n",
       "      <th>count</th>\n",
       "      <td>5.881010e+05</td>\n",
       "      <td>588101</td>\n",
       "      <td>588101.000000</td>\n",
       "      <td>588101.000000</td>\n",
       "      <td>588101</td>\n",
       "      <td>588101.000000</td>\n",
       "    </tr>\n",
       "    <tr>\n",
       "      <th>unique</th>\n",
       "      <td>NaN</td>\n",
       "      <td>2</td>\n",
       "      <td>NaN</td>\n",
       "      <td>NaN</td>\n",
       "      <td>7</td>\n",
       "      <td>NaN</td>\n",
       "    </tr>\n",
       "    <tr>\n",
       "      <th>top</th>\n",
       "      <td>NaN</td>\n",
       "      <td>ad</td>\n",
       "      <td>NaN</td>\n",
       "      <td>NaN</td>\n",
       "      <td>Friday</td>\n",
       "      <td>NaN</td>\n",
       "    </tr>\n",
       "    <tr>\n",
       "      <th>freq</th>\n",
       "      <td>NaN</td>\n",
       "      <td>564577</td>\n",
       "      <td>NaN</td>\n",
       "      <td>NaN</td>\n",
       "      <td>92608</td>\n",
       "      <td>NaN</td>\n",
       "    </tr>\n",
       "    <tr>\n",
       "      <th>mean</th>\n",
       "      <td>1.310692e+06</td>\n",
       "      <td>NaN</td>\n",
       "      <td>0.025239</td>\n",
       "      <td>24.820876</td>\n",
       "      <td>NaN</td>\n",
       "      <td>14.469061</td>\n",
       "    </tr>\n",
       "    <tr>\n",
       "      <th>std</th>\n",
       "      <td>2.022260e+05</td>\n",
       "      <td>NaN</td>\n",
       "      <td>0.156850</td>\n",
       "      <td>43.715181</td>\n",
       "      <td>NaN</td>\n",
       "      <td>4.834634</td>\n",
       "    </tr>\n",
       "    <tr>\n",
       "      <th>min</th>\n",
       "      <td>9.000000e+05</td>\n",
       "      <td>NaN</td>\n",
       "      <td>0.000000</td>\n",
       "      <td>1.000000</td>\n",
       "      <td>NaN</td>\n",
       "      <td>0.000000</td>\n",
       "    </tr>\n",
       "    <tr>\n",
       "      <th>25%</th>\n",
       "      <td>1.143190e+06</td>\n",
       "      <td>NaN</td>\n",
       "      <td>0.000000</td>\n",
       "      <td>4.000000</td>\n",
       "      <td>NaN</td>\n",
       "      <td>11.000000</td>\n",
       "    </tr>\n",
       "    <tr>\n",
       "      <th>50%</th>\n",
       "      <td>1.313725e+06</td>\n",
       "      <td>NaN</td>\n",
       "      <td>0.000000</td>\n",
       "      <td>13.000000</td>\n",
       "      <td>NaN</td>\n",
       "      <td>14.000000</td>\n",
       "    </tr>\n",
       "    <tr>\n",
       "      <th>75%</th>\n",
       "      <td>1.484088e+06</td>\n",
       "      <td>NaN</td>\n",
       "      <td>0.000000</td>\n",
       "      <td>27.000000</td>\n",
       "      <td>NaN</td>\n",
       "      <td>18.000000</td>\n",
       "    </tr>\n",
       "    <tr>\n",
       "      <th>max</th>\n",
       "      <td>1.654483e+06</td>\n",
       "      <td>NaN</td>\n",
       "      <td>1.000000</td>\n",
       "      <td>2065.000000</td>\n",
       "      <td>NaN</td>\n",
       "      <td>23.000000</td>\n",
       "    </tr>\n",
       "  </tbody>\n",
       "</table>\n",
       "</div>"
      ],
      "text/plain": [
       "             user id test group      converted      total ads most ads day  \\\n",
       "count   5.881010e+05     588101  588101.000000  588101.000000       588101   \n",
       "unique           NaN          2            NaN            NaN            7   \n",
       "top              NaN         ad            NaN            NaN       Friday   \n",
       "freq             NaN     564577            NaN            NaN        92608   \n",
       "mean    1.310692e+06        NaN       0.025239      24.820876          NaN   \n",
       "std     2.022260e+05        NaN       0.156850      43.715181          NaN   \n",
       "min     9.000000e+05        NaN       0.000000       1.000000          NaN   \n",
       "25%     1.143190e+06        NaN       0.000000       4.000000          NaN   \n",
       "50%     1.313725e+06        NaN       0.000000      13.000000          NaN   \n",
       "75%     1.484088e+06        NaN       0.000000      27.000000          NaN   \n",
       "max     1.654483e+06        NaN       1.000000    2065.000000          NaN   \n",
       "\n",
       "        most ads hour  \n",
       "count   588101.000000  \n",
       "unique            NaN  \n",
       "top               NaN  \n",
       "freq              NaN  \n",
       "mean        14.469061  \n",
       "std          4.834634  \n",
       "min          0.000000  \n",
       "25%         11.000000  \n",
       "50%         14.000000  \n",
       "75%         18.000000  \n",
       "max         23.000000  "
      ]
     },
     "execution_count": 9,
     "metadata": {},
     "output_type": "execute_result"
    }
   ],
   "source": [
    "df.describe(include='all')"
   ]
  },
  {
   "cell_type": "markdown",
   "id": "38bd8971",
   "metadata": {
    "papermill": {
     "duration": 0.01703,
     "end_time": "2023-07-26T22:02:15.525335",
     "exception": false,
     "start_time": "2023-07-26T22:02:15.508305",
     "status": "completed"
    },
    "tags": []
   },
   "source": [
    "## number and piechart of different test group / campaigns that were viewed by customers-consumers\n",
    "\n",
    "The ad was certainly viewed way more than from the public service annoucements "
   ]
  },
  {
   "cell_type": "code",
   "execution_count": 10,
   "id": "ece31776",
   "metadata": {
    "execution": {
     "iopub.execute_input": "2023-07-26T22:02:15.563416Z",
     "iopub.status.busy": "2023-07-26T22:02:15.562754Z",
     "iopub.status.idle": "2023-07-26T22:02:15.992884Z",
     "shell.execute_reply": "2023-07-26T22:02:15.990618Z"
    },
    "papermill": {
     "duration": 0.456272,
     "end_time": "2023-07-26T22:02:15.999334",
     "exception": false,
     "start_time": "2023-07-26T22:02:15.543062",
     "status": "completed"
    },
    "tags": []
   },
   "outputs": [
    {
     "name": "stdout",
     "output_type": "stream",
     "text": [
      "ad     564577\n",
      "psa     23524\n",
      "Name: test group, dtype: int64\n"
     ]
    },
    {
     "data": {
      "image/png": "[encoded data removed]",
      "text/plain": [
       "<Figure size 640x480 with 1 Axes>"
      ]
     },
     "metadata": {},
     "output_type": "display_data"
    }
   ],
   "source": [
    "print(df[\"test group\"].value_counts())\n",
    "\n",
    "ax = df[\"test group\"].value_counts().plot(kind=\"pie\")\n",
    "ax.set_title('Views of Different Marketing campaings piechart')\n",
    "plt.show()"
   ]
  },
  {
   "cell_type": "markdown",
   "id": "e8a8fc1a",
   "metadata": {
    "papermill": {
     "duration": 0.020229,
     "end_time": "2023-07-26T22:02:16.059099",
     "exception": false,
     "start_time": "2023-07-26T22:02:16.038870",
     "status": "completed"
    },
    "tags": []
   },
   "source": [
    "## Numbers and piechart of those who converted and decided to choose the offer based on the different marketinig campaign\n",
    "\n",
    "Seems a portion (2.52%) of those who viewed the different marketing campaings were converted and decided to follow the new marketing product"
   ]
  },
  {
   "cell_type": "code",
   "execution_count": 11,
   "id": "a35819ff",
   "metadata": {
    "execution": {
     "iopub.execute_input": "2023-07-26T22:02:16.098987Z",
     "iopub.status.busy": "2023-07-26T22:02:16.098243Z",
     "iopub.status.idle": "2023-07-26T22:02:16.295500Z",
     "shell.execute_reply": "2023-07-26T22:02:16.293722Z"
    },
    "papermill": {
     "duration": 0.223109,
     "end_time": "2023-07-26T22:02:16.301344",
     "exception": false,
     "start_time": "2023-07-26T22:02:16.078235",
     "status": "completed"
    },
    "tags": []
   },
   "outputs": [
    {
     "name": "stdout",
     "output_type": "stream",
     "text": [
      "% Not converted 97.4761137967798\n",
      "% Converted 2.523886203220195\n"
     ]
    },
    {
     "data": {
      "image/png": "[encoded data removed]",
      "text/plain": [
       "<Figure size 640x480 with 1 Axes>"
      ]
     },
     "metadata": {},
     "output_type": "display_data"
    }
   ],
   "source": [
    "print(\"% Not converted\", 100 * df[\"converted\"].value_counts()[0]/df[\"converted\"].value_counts().sum())\n",
    "print(\"% Converted\", 100 * df[\"converted\"].value_counts()[1]/df[\"converted\"].value_counts().sum())\n",
    "\n",
    "ax = df[\"converted\"].value_counts().plot(kind=\"pie\")\n",
    "ax.set_title('Converted piechart')\n",
    "plt.show()"
   ]
  },
  {
   "cell_type": "markdown",
   "id": "828511fb",
   "metadata": {
    "papermill": {
     "duration": 0.022918,
     "end_time": "2023-07-26T22:02:16.365020",
     "exception": false,
     "start_time": "2023-07-26T22:02:16.342102",
     "status": "completed"
    },
    "tags": []
   },
   "source": [
    "# Calculate conversion rates"
   ]
  },
  {
   "cell_type": "code",
   "execution_count": 12,
   "id": "2170f8b1",
   "metadata": {
    "execution": {
     "iopub.execute_input": "2023-07-26T22:02:16.407864Z",
     "iopub.status.busy": "2023-07-26T22:02:16.407406Z",
     "iopub.status.idle": "2023-07-26T22:02:16.488363Z",
     "shell.execute_reply": "2023-07-26T22:02:16.486827Z"
    },
    "papermill": {
     "duration": 0.105893,
     "end_time": "2023-07-26T22:02:16.491247",
     "exception": false,
     "start_time": "2023-07-26T22:02:16.385354",
     "status": "completed"
    },
    "tags": []
   },
   "outputs": [
    {
     "data": {
      "text/plain": [
       "test group\n",
       "ad     2.554656\n",
       "psa    1.785411\n",
       "Name: converted, dtype: float64"
      ]
     },
     "execution_count": 12,
     "metadata": {},
     "output_type": "execute_result"
    }
   ],
   "source": [
    "df.groupby(\"test group\")[\"converted\"].mean()*100"
   ]
  },
  {
   "cell_type": "markdown",
   "id": "544bb082",
   "metadata": {
    "papermill": {
     "duration": 0.018415,
     "end_time": "2023-07-26T22:02:16.528446",
     "exception": false,
     "start_time": "2023-07-26T22:02:16.510031",
     "status": "completed"
    },
    "tags": []
   },
   "source": [
    "From these conversion rates, it can be concluded that the ad group achieved a higher conversion rate (2.5547%) compared to the PSA group (1.7854%). This indicates that the advertisements were successful in generating conversions and the overall ad campaign was effective."
   ]
  },
  {
   "cell_type": "markdown",
   "id": "57dfe502",
   "metadata": {
    "papermill": {
     "duration": 0.018308,
     "end_time": "2023-07-26T22:02:16.566383",
     "exception": false,
     "start_time": "2023-07-26T22:02:16.548075",
     "status": "completed"
    },
    "tags": []
   },
   "source": [
    "# Bivariate plots/statistics\n",
    "\n",
    "Lets see how many of the customers who took part of different marketing campaings got affected by them and converted to the new marketing products"
   ]
  },
  {
   "cell_type": "code",
   "execution_count": 13,
   "id": "04d06648",
   "metadata": {
    "execution": {
     "iopub.execute_input": "2023-07-26T22:02:16.605626Z",
     "iopub.status.busy": "2023-07-26T22:02:16.605104Z",
     "iopub.status.idle": "2023-07-26T22:02:17.139000Z",
     "shell.execute_reply": "2023-07-26T22:02:17.137092Z"
    },
    "papermill": {
     "duration": 0.557439,
     "end_time": "2023-07-26T22:02:17.142366",
     "exception": false,
     "start_time": "2023-07-26T22:02:16.584927",
     "status": "completed"
    },
    "tags": []
   },
   "outputs": [
    {
     "name": "stdout",
     "output_type": "stream",
     "text": [
      "converted        0      1\n",
      "test group               \n",
      "ad          550154  14423\n",
      "psa          23104    420\n"
     ]
    },
    {
     "data": {
      "text/plain": [
       "<Axes: xlabel='test group'>"
      ]
     },
     "execution_count": 13,
     "metadata": {},
     "output_type": "execute_result"
    },
    {
     "data": {
      "image/png": "[encoded data removed]",
      "text/plain": [
       "<Figure size 640x480 with 1 Axes>"
      ]
     },
     "metadata": {},
     "output_type": "display_data"
    }
   ],
   "source": [
    "print(df.groupby(\"converted\")[\"test group\"].value_counts().unstack('converted'))\n",
    "\n",
    "df.groupby(\"converted\")[\"test group\"].value_counts().unstack('converted').plot(kind=\"bar\", stacked=True)\n"
   ]
  },
  {
   "cell_type": "markdown",
   "id": "fc600ebb",
   "metadata": {
    "papermill": {
     "duration": 0.019233,
     "end_time": "2023-07-26T22:02:17.181397",
     "exception": false,
     "start_time": "2023-07-26T22:02:17.162164",
     "status": "completed"
    },
    "tags": []
   },
   "source": [
    "## Inspecting those who took part of Public Service accouncements campaings"
   ]
  },
  {
   "cell_type": "code",
   "execution_count": 14,
   "id": "f0458fb9",
   "metadata": {
    "execution": {
     "iopub.execute_input": "2023-07-26T22:02:17.224210Z",
     "iopub.status.busy": "2023-07-26T22:02:17.222833Z",
     "iopub.status.idle": "2023-07-26T22:02:17.712771Z",
     "shell.execute_reply": "2023-07-26T22:02:17.710693Z"
    },
    "papermill": {
     "duration": 0.514278,
     "end_time": "2023-07-26T22:02:17.715620",
     "exception": false,
     "start_time": "2023-07-26T22:02:17.201342",
     "status": "completed"
    },
    "tags": []
   },
   "outputs": [
    {
     "name": "stdout",
     "output_type": "stream",
     "text": [
      "converted  test group\n",
      "0          psa           23104\n",
      "1          psa             420\n",
      "Name: test group, dtype: int64\n"
     ]
    },
    {
     "data": {
      "text/plain": [
       "<Axes: xlabel='converted,test group'>"
      ]
     },
     "execution_count": 14,
     "metadata": {},
     "output_type": "execute_result"
    },
    {
     "data": {
      "image/png": "[encoded data removed]",
      "text/plain": [
       "<Figure size 640x480 with 1 Axes>"
      ]
     },
     "metadata": {},
     "output_type": "display_data"
    }
   ],
   "source": [
    "print(df.loc[df[\"test group\"]==\"psa\"].groupby(\"converted\")[\"test group\"].value_counts())\n",
    "df.loc[df[\"test group\"]==\"psa\"].groupby(\"converted\")[\"test group\"].value_counts().plot(kind=\"bar\", stacked=True)\n"
   ]
  },
  {
   "cell_type": "markdown",
   "id": "6aa8e529",
   "metadata": {
    "papermill": {
     "duration": 0.01908,
     "end_time": "2023-07-26T22:02:17.754189",
     "exception": false,
     "start_time": "2023-07-26T22:02:17.735109",
     "status": "completed"
    },
    "tags": []
   },
   "source": [
    "## Inspecting those who took part of Public Service accouncements campaings"
   ]
  },
  {
   "cell_type": "code",
   "execution_count": 15,
   "id": "9fdc7ed6",
   "metadata": {
    "execution": {
     "iopub.execute_input": "2023-07-26T22:02:17.795331Z",
     "iopub.status.busy": "2023-07-26T22:02:17.794857Z",
     "iopub.status.idle": "2023-07-26T22:02:18.535215Z",
     "shell.execute_reply": "2023-07-26T22:02:18.534007Z"
    },
    "papermill": {
     "duration": 0.764088,
     "end_time": "2023-07-26T22:02:18.537786",
     "exception": false,
     "start_time": "2023-07-26T22:02:17.773698",
     "status": "completed"
    },
    "tags": []
   },
   "outputs": [
    {
     "name": "stdout",
     "output_type": "stream",
     "text": [
      "converted  test group\n",
      "0          ad            550154\n",
      "1          ad             14423\n",
      "Name: test group, dtype: int64\n"
     ]
    },
    {
     "data": {
      "text/plain": [
       "<Axes: xlabel='converted,test group'>"
      ]
     },
     "execution_count": 15,
     "metadata": {},
     "output_type": "execute_result"
    },
    {
     "data": {
      "image/png": "[encoded data removed]",
      "text/plain": [
       "<Figure size 640x480 with 1 Axes>"
      ]
     },
     "metadata": {},
     "output_type": "display_data"
    }
   ],
   "source": [
    "print(df.loc[df[\"test group\"]==\"ad\"].groupby(\"converted\")[\"test group\"].value_counts())\n",
    "df.loc[df[\"test group\"]==\"ad\"].groupby(\"converted\")[\"test group\"].value_counts().plot(kind=\"bar\", stacked=True)"
   ]
  },
  {
   "cell_type": "markdown",
   "id": "17094384",
   "metadata": {
    "papermill": {
     "duration": 0.020067,
     "end_time": "2023-07-26T22:02:18.578526",
     "exception": false,
     "start_time": "2023-07-26T22:02:18.558459",
     "status": "completed"
    },
    "tags": []
   },
   "source": [
    "## Most profitable days and those who converted with new marketing campaings\n",
    "\n",
    "Seems Monday is the the best day to air adventishments and seems Tuesday for public service anouncement campaings"
   ]
  },
  {
   "cell_type": "code",
   "execution_count": 16,
   "id": "59927248",
   "metadata": {
    "execution": {
     "iopub.execute_input": "2023-07-26T22:02:18.620789Z",
     "iopub.status.busy": "2023-07-26T22:02:18.620339Z",
     "iopub.status.idle": "2023-07-26T22:02:19.210112Z",
     "shell.execute_reply": "2023-07-26T22:02:19.208671Z"
    },
    "papermill": {
     "duration": 0.614441,
     "end_time": "2023-07-26T22:02:19.213208",
     "exception": false,
     "start_time": "2023-07-26T22:02:18.598767",
     "status": "completed"
    },
    "tags": []
   },
   "outputs": [
    {
     "name": "stdout",
     "output_type": "stream",
     "text": [
      "most ads day\n",
      "Friday       2057\n",
      "Monday       2857\n",
      "Saturday     1719\n",
      "Sunday       2090\n",
      "Thursday     1790\n",
      "Tuesday      2312\n",
      "Wednesday    2018\n",
      "Name: converted, dtype: int64\n"
     ]
    },
    {
     "data": {
      "image/png": "[encoded data removed]",
      "text/plain": [
       "<Figure size 900x600 with 1 Axes>"
      ]
     },
     "metadata": {},
     "output_type": "display_data"
    }
   ],
   "source": [
    "print(df.groupby(\"most ads day\")[\"converted\"].sum())\n",
    "\n",
    "ax =df.groupby(by =['most ads day', 'test group']).sum()['converted'].unstack('test group').plot(kind='bar', figsize=(9,6), grid= True, stacked= True)\n",
    "ax.set_ylabel('converted')\n",
    "ax.set_title('Most ad days and converted')\n",
    "plt.show()"
   ]
  },
  {
   "cell_type": "markdown",
   "id": "28877310",
   "metadata": {
    "papermill": {
     "duration": 0.021248,
     "end_time": "2023-07-26T22:02:19.256305",
     "exception": false,
     "start_time": "2023-07-26T22:02:19.235057",
     "status": "completed"
    },
    "tags": []
   },
   "source": [
    "### for Advertishement campaigns, which day we had the greatest conversion?\n",
    "\n",
    "During Monday"
   ]
  },
  {
   "cell_type": "code",
   "execution_count": 17,
   "id": "d352307b",
   "metadata": {
    "execution": {
     "iopub.execute_input": "2023-07-26T22:02:19.300081Z",
     "iopub.status.busy": "2023-07-26T22:02:19.299639Z",
     "iopub.status.idle": "2023-07-26T22:02:19.986553Z",
     "shell.execute_reply": "2023-07-26T22:02:19.984740Z"
    },
    "papermill": {
     "duration": 0.712457,
     "end_time": "2023-07-26T22:02:19.989753",
     "exception": false,
     "start_time": "2023-07-26T22:02:19.277296",
     "status": "completed"
    },
    "tags": []
   },
   "outputs": [
    {
     "name": "stdout",
     "output_type": "stream",
     "text": [
      "most ads day\n",
      "Friday       1995\n",
      "Monday       2778\n",
      "Saturday     1679\n",
      "Sunday       2027\n",
      "Thursday     1711\n",
      "Tuesday      2270\n",
      "Wednesday    1963\n",
      "Name: converted, dtype: int64\n"
     ]
    },
    {
     "data": {
      "text/plain": [
       "<Axes: xlabel='most ads day'>"
      ]
     },
     "execution_count": 17,
     "metadata": {},
     "output_type": "execute_result"
    },
    {
     "data": {
      "image/png": "[encoded data removed]",
      "text/plain": [
       "<Figure size 640x480 with 1 Axes>"
      ]
     },
     "metadata": {},
     "output_type": "display_data"
    }
   ],
   "source": [
    "print(df.loc[df[\"test group\"]==\"ad\"].groupby(\"most ads day\")[\"converted\"].sum())\n",
    "df.loc[df[\"test group\"]==\"ad\"].groupby(\"most ads day\")[\"converted\"].sum().plot(kind=\"bar\")"
   ]
  },
  {
   "cell_type": "markdown",
   "id": "43341dcd",
   "metadata": {
    "papermill": {
     "duration": 0.022417,
     "end_time": "2023-07-26T22:02:20.041465",
     "exception": false,
     "start_time": "2023-07-26T22:02:20.019048",
     "status": "completed"
    },
    "tags": []
   },
   "source": [
    "### for Public Service Anouncement campaigns, which day we had the greatest conversion?\n",
    "\n",
    "during Monday and Thursday"
   ]
  },
  {
   "cell_type": "code",
   "execution_count": 18,
   "id": "0c8e98ae",
   "metadata": {
    "execution": {
     "iopub.execute_input": "2023-07-26T22:02:20.089364Z",
     "iopub.status.busy": "2023-07-26T22:02:20.088636Z",
     "iopub.status.idle": "2023-07-26T22:02:20.569025Z",
     "shell.execute_reply": "2023-07-26T22:02:20.567650Z"
    },
    "papermill": {
     "duration": 0.507605,
     "end_time": "2023-07-26T22:02:20.571904",
     "exception": false,
     "start_time": "2023-07-26T22:02:20.064299",
     "status": "completed"
    },
    "tags": []
   },
   "outputs": [
    {
     "name": "stdout",
     "output_type": "stream",
     "text": [
      "most ads day\n",
      "Friday       62\n",
      "Monday       79\n",
      "Saturday     40\n",
      "Sunday       63\n",
      "Thursday     79\n",
      "Tuesday      42\n",
      "Wednesday    55\n",
      "Name: converted, dtype: int64\n"
     ]
    },
    {
     "data": {
      "text/plain": [
       "<Axes: xlabel='most ads day'>"
      ]
     },
     "execution_count": 18,
     "metadata": {},
     "output_type": "execute_result"
    },
    {
     "data": {
      "image/png": "[encoded data removed]",
      "text/plain": [
       "<Figure size 640x480 with 1 Axes>"
      ]
     },
     "metadata": {},
     "output_type": "display_data"
    }
   ],
   "source": [
    "print(df.loc[df[\"test group\"]==\"psa\"].groupby(\"most ads day\")[\"converted\"].sum())\n",
    "df.loc[df[\"test group\"]==\"psa\"].groupby(\"most ads day\")[\"converted\"].sum().plot(kind=\"bar\")"
   ]
  },
  {
   "cell_type": "markdown",
   "id": "e14ac88e",
   "metadata": {
    "papermill": {
     "duration": 0.022735,
     "end_time": "2023-07-26T22:02:20.617722",
     "exception": false,
     "start_time": "2023-07-26T22:02:20.594987",
     "status": "completed"
    },
    "tags": []
   },
   "source": [
    "## Most profitable hours with new marketing campaings\n",
    "The most profitable hour for both campaings in the 15th hour, we need to inspect further for each of the 2 campaings."
   ]
  },
  {
   "cell_type": "code",
   "execution_count": 19,
   "id": "7095b076",
   "metadata": {
    "execution": {
     "iopub.execute_input": "2023-07-26T22:02:20.665511Z",
     "iopub.status.busy": "2023-07-26T22:02:20.664833Z",
     "iopub.status.idle": "2023-07-26T22:02:21.354122Z",
     "shell.execute_reply": "2023-07-26T22:02:21.352740Z"
    },
    "papermill": {
     "duration": 0.716564,
     "end_time": "2023-07-26T22:02:21.356811",
     "exception": false,
     "start_time": "2023-07-26T22:02:20.640247",
     "status": "completed"
    },
    "tags": []
   },
   "outputs": [
    {
     "name": "stdout",
     "output_type": "stream",
     "text": [
      "most ads hour\n",
      "0      102\n",
      "1       62\n",
      "2       39\n",
      "3       28\n",
      "4       11\n",
      "5       16\n",
      "6       46\n",
      "7      116\n",
      "8      344\n",
      "9      595\n",
      "10     838\n",
      "11    1022\n",
      "12    1127\n",
      "13    1176\n",
      "14    1281\n",
      "15    1325\n",
      "16    1156\n",
      "17     987\n",
      "18     885\n",
      "19     811\n",
      "20     862\n",
      "21     867\n",
      "22     690\n",
      "23     457\n",
      "Name: converted, dtype: int64\n"
     ]
    },
    {
     "data": {
      "image/png": "[encoded data removed]",
      "text/plain": [
       "<Figure size 1400x1300 with 1 Axes>"
      ]
     },
     "metadata": {},
     "output_type": "display_data"
    }
   ],
   "source": [
    "print(df.groupby(\"most ads hour\")[\"converted\"].sum())\n",
    "\n",
    "ax = df.groupby(by =['most ads hour', 'test group'])['converted'].sum().unstack('test group').plot(kind= 'bar', figsize= (14,13), grid= True, stacked= True)\n",
    "ax.set_ylabel('converted')\n",
    "ax.set_title('Most ad days and converted')\n",
    "plt.show()"
   ]
  },
  {
   "cell_type": "markdown",
   "id": "e1475bca",
   "metadata": {
    "papermill": {
     "duration": 0.022681,
     "end_time": "2023-07-26T22:02:21.403379",
     "exception": false,
     "start_time": "2023-07-26T22:02:21.380698",
     "status": "completed"
    },
    "tags": []
   },
   "source": [
    "### for Advertishement campaigns, which hour we had the greatest conversion?\n",
    "\n",
    "During the 15th hour"
   ]
  },
  {
   "cell_type": "code",
   "execution_count": 20,
   "id": "8689da9e",
   "metadata": {
    "execution": {
     "iopub.execute_input": "2023-07-26T22:02:21.451953Z",
     "iopub.status.busy": "2023-07-26T22:02:21.451158Z",
     "iopub.status.idle": "2023-07-26T22:02:22.206468Z",
     "shell.execute_reply": "2023-07-26T22:02:22.205113Z"
    },
    "papermill": {
     "duration": 0.784012,
     "end_time": "2023-07-26T22:02:22.210405",
     "exception": false,
     "start_time": "2023-07-26T22:02:21.426393",
     "status": "completed"
    },
    "tags": []
   },
   "outputs": [
    {
     "name": "stdout",
     "output_type": "stream",
     "text": [
      "most ads hour\n",
      "0      102\n",
      "1       62\n",
      "2       39\n",
      "3       27\n",
      "4       11\n",
      "5       16\n",
      "6       46\n",
      "7      114\n",
      "8      337\n",
      "9      582\n",
      "10     818\n",
      "11     992\n",
      "12    1092\n",
      "13    1140\n",
      "14    1251\n",
      "15    1279\n",
      "16    1111\n",
      "17     959\n",
      "18     853\n",
      "19     782\n",
      "20     843\n",
      "21     843\n",
      "22     675\n",
      "23     449\n",
      "Name: converted, dtype: int64\n"
     ]
    },
    {
     "data": {
      "text/plain": [
       "<Axes: xlabel='most ads hour'>"
      ]
     },
     "execution_count": 20,
     "metadata": {},
     "output_type": "execute_result"
    },
    {
     "data": {
      "image/png": "[encoded data removed]",
      "text/plain": [
       "<Figure size 640x480 with 1 Axes>"
      ]
     },
     "metadata": {},
     "output_type": "display_data"
    }
   ],
   "source": [
    "print(df.loc[df[\"test group\"]==\"ad\"].groupby(\"most ads hour\")[\"converted\"].sum())\n",
    "df.loc[df[\"test group\"]==\"ad\"].groupby(\"most ads hour\")[\"converted\"].sum().plot(kind=\"bar\")"
   ]
  },
  {
   "cell_type": "markdown",
   "id": "05e20fe6",
   "metadata": {
    "papermill": {
     "duration": 0.023817,
     "end_time": "2023-07-26T22:02:22.258973",
     "exception": false,
     "start_time": "2023-07-26T22:02:22.235156",
     "status": "completed"
    },
    "tags": []
   },
   "source": [
    "### for Public Service campaigns, which hour we had the greatest conversion?\n",
    "\n",
    "During the 15th hour"
   ]
  },
  {
   "cell_type": "code",
   "execution_count": 21,
   "id": "7a03a30f",
   "metadata": {
    "execution": {
     "iopub.execute_input": "2023-07-26T22:02:22.309662Z",
     "iopub.status.busy": "2023-07-26T22:02:22.309195Z",
     "iopub.status.idle": "2023-07-26T22:02:23.134770Z",
     "shell.execute_reply": "2023-07-26T22:02:23.133295Z"
    },
    "papermill": {
     "duration": 0.854933,
     "end_time": "2023-07-26T22:02:23.138381",
     "exception": false,
     "start_time": "2023-07-26T22:02:22.283448",
     "status": "completed"
    },
    "tags": []
   },
   "outputs": [
    {
     "name": "stdout",
     "output_type": "stream",
     "text": [
      "most ads hour\n",
      "0      0\n",
      "1      0\n",
      "2      0\n",
      "3      1\n",
      "4      0\n",
      "5      0\n",
      "6      0\n",
      "7      2\n",
      "8      7\n",
      "9     13\n",
      "10    20\n",
      "11    30\n",
      "12    35\n",
      "13    36\n",
      "14    30\n",
      "15    46\n",
      "16    45\n",
      "17    28\n",
      "18    32\n",
      "19    29\n",
      "20    19\n",
      "21    24\n",
      "22    15\n",
      "23     8\n",
      "Name: converted, dtype: int64\n"
     ]
    },
    {
     "data": {
      "text/plain": [
       "<Axes: xlabel='most ads hour'>"
      ]
     },
     "execution_count": 21,
     "metadata": {},
     "output_type": "execute_result"
    },
    {
     "data": {
      "image/png": "[encoded data removed]",
      "text/plain": [
       "<Figure size 640x480 with 1 Axes>"
      ]
     },
     "metadata": {},
     "output_type": "display_data"
    }
   ],
   "source": [
    "print(df.loc[df[\"test group\"]==\"psa\"].groupby(\"most ads hour\")[\"converted\"].sum())\n",
    "df.loc[df[\"test group\"]==\"psa\"].groupby(\"most ads hour\")[\"converted\"].sum().plot(kind=\"bar\")"
   ]
  },
  {
   "cell_type": "markdown",
   "id": "572b6fcf",
   "metadata": {
    "papermill": {
     "duration": 0.024526,
     "end_time": "2023-07-26T22:02:23.187874",
     "exception": false,
     "start_time": "2023-07-26T22:02:23.163348",
     "status": "completed"
    },
    "tags": []
   },
   "source": [
    "# A/B Testing"
   ]
  },
  {
   "cell_type": "code",
   "execution_count": 22,
   "id": "18cc8f4c",
   "metadata": {
    "execution": {
     "iopub.execute_input": "2023-07-26T22:02:23.241909Z",
     "iopub.status.busy": "2023-07-26T22:02:23.240460Z",
     "iopub.status.idle": "2023-07-26T22:02:23.504571Z",
     "shell.execute_reply": "2023-07-26T22:02:23.502864Z"
    },
    "papermill": {
     "duration": 0.295084,
     "end_time": "2023-07-26T22:02:23.508295",
     "exception": false,
     "start_time": "2023-07-26T22:02:23.213211",
     "status": "completed"
    },
    "tags": []
   },
   "outputs": [],
   "source": [
    "ad_dist = df[df[\"test group\"] == 'ad'].reset_index(drop=True)\n",
    "psa_dist = df[df[\"test group\"] == 'psa'].reset_index(drop=True)"
   ]
  },
  {
   "cell_type": "code",
   "execution_count": 23,
   "id": "0e92e17a",
   "metadata": {
    "execution": {
     "iopub.execute_input": "2023-07-26T22:02:23.564115Z",
     "iopub.status.busy": "2023-07-26T22:02:23.563440Z",
     "iopub.status.idle": "2023-07-26T22:02:23.572226Z",
     "shell.execute_reply": "2023-07-26T22:02:23.571200Z"
    },
    "papermill": {
     "duration": 0.039953,
     "end_time": "2023-07-26T22:02:23.574761",
     "exception": false,
     "start_time": "2023-07-26T22:02:23.534808",
     "status": "completed"
    },
    "tags": []
   },
   "outputs": [
    {
     "data": {
      "text/plain": [
       "((564577, 6), (23524, 6))"
      ]
     },
     "execution_count": 23,
     "metadata": {},
     "output_type": "execute_result"
    }
   ],
   "source": [
    "ad_dist.shape, psa_dist.shape"
   ]
  },
  {
   "cell_type": "markdown",
   "id": "63e745f9",
   "metadata": {
    "papermill": {
     "duration": 0.024592,
     "end_time": "2023-07-26T22:02:23.624470",
     "exception": false,
     "start_time": "2023-07-26T22:02:23.599878",
     "status": "completed"
    },
    "tags": []
   },
   "source": [
    "## test of Normality"
   ]
  },
  {
   "cell_type": "code",
   "execution_count": 24,
   "id": "4237d34a",
   "metadata": {
    "execution": {
     "iopub.execute_input": "2023-07-26T22:02:23.679170Z",
     "iopub.status.busy": "2023-07-26T22:02:23.678355Z",
     "iopub.status.idle": "2023-07-26T22:02:23.683919Z",
     "shell.execute_reply": "2023-07-26T22:02:23.682870Z"
    },
    "papermill": {
     "duration": 0.036239,
     "end_time": "2023-07-26T22:02:23.686692",
     "exception": false,
     "start_time": "2023-07-26T22:02:23.650453",
     "status": "completed"
    },
    "tags": []
   },
   "outputs": [],
   "source": [
    "from scipy.stats import shapiro, levene, mannwhitneyu, ttest_ind"
   ]
  },
  {
   "cell_type": "code",
   "execution_count": 25,
   "id": "264d8dd9",
   "metadata": {
    "execution": {
     "iopub.execute_input": "2023-07-26T22:02:23.738487Z",
     "iopub.status.busy": "2023-07-26T22:02:23.737650Z",
     "iopub.status.idle": "2023-07-26T22:02:23.769072Z",
     "shell.execute_reply": "2023-07-26T22:02:23.767786Z"
    },
    "papermill": {
     "duration": 0.060559,
     "end_time": "2023-07-26T22:02:23.771856",
     "exception": false,
     "start_time": "2023-07-26T22:02:23.711297",
     "status": "completed"
    },
    "tags": []
   },
   "outputs": [
    {
     "name": "stdout",
     "output_type": "stream",
     "text": [
      "0.0 0.0\n"
     ]
    },
    {
     "name": "stderr",
     "output_type": "stream",
     "text": [
      "/opt/conda/lib/python3.10/site-packages/scipy/stats/morestats.py:1760: UserWarning: p-value may not be accurate for N > 5000.\n",
      "  warnings.warn(\"p-value may not be accurate for N > 5000.\")\n"
     ]
    }
   ],
   "source": [
    "_, pvalue_ad = shapiro(ad_dist.converted)\n",
    "_, pvalue_psa = shapiro(psa_dist.converted)\n",
    "print(pvalue_ad, pvalue_psa)"
   ]
  },
  {
   "cell_type": "markdown",
   "id": "ed7aebdb",
   "metadata": {
    "papermill": {
     "duration": 0.024381,
     "end_time": "2023-07-26T22:02:23.820909",
     "exception": false,
     "start_time": "2023-07-26T22:02:23.796528",
     "status": "completed"
    },
    "tags": []
   },
   "source": [
    "## Test of homogeneity of variance"
   ]
  },
  {
   "cell_type": "code",
   "execution_count": 26,
   "id": "67344cf1",
   "metadata": {
    "execution": {
     "iopub.execute_input": "2023-07-26T22:02:23.872477Z",
     "iopub.status.busy": "2023-07-26T22:02:23.872041Z",
     "iopub.status.idle": "2023-07-26T22:02:23.887298Z",
     "shell.execute_reply": "2023-07-26T22:02:23.886054Z"
    },
    "papermill": {
     "duration": 0.044371,
     "end_time": "2023-07-26T22:02:23.890084",
     "exception": false,
     "start_time": "2023-07-26T22:02:23.845713",
     "status": "completed"
    },
    "tags": []
   },
   "outputs": [
    {
     "data": {
      "text/plain": [
       "LeveneResult(statistic=54.322884225785735, pvalue=1.703305262368155e-13)"
      ]
     },
     "execution_count": 26,
     "metadata": {},
     "output_type": "execute_result"
    }
   ],
   "source": [
    "# variance homogeneity check\n",
    "levene(psa_dist.converted, ad_dist.converted)"
   ]
  },
  {
   "cell_type": "markdown",
   "id": "786ee5a4",
   "metadata": {
    "papermill": {
     "duration": 0.025564,
     "end_time": "2023-07-26T22:02:23.940546",
     "exception": false,
     "start_time": "2023-07-26T22:02:23.914982",
     "status": "completed"
    },
    "tags": []
   },
   "source": [
    "p_values are less than 0.05 so the normality and variance assumptions are met."
   ]
  },
  {
   "cell_type": "markdown",
   "id": "f5573c36",
   "metadata": {
    "papermill": {
     "duration": 0.025673,
     "end_time": "2023-07-26T22:02:23.991295",
     "exception": false,
     "start_time": "2023-07-26T22:02:23.965622",
     "status": "completed"
    },
    "tags": []
   },
   "source": [
    "## A/B Testing, independent T-test\n",
    "\n",
    "Since Shapiro's test and the test of homogenous variance are met"
   ]
  },
  {
   "cell_type": "code",
   "execution_count": 27,
   "id": "eeea3c1c",
   "metadata": {
    "execution": {
     "iopub.execute_input": "2023-07-26T22:02:24.053862Z",
     "iopub.status.busy": "2023-07-26T22:02:24.053370Z",
     "iopub.status.idle": "2023-07-26T22:02:24.066527Z",
     "shell.execute_reply": "2023-07-26T22:02:24.065383Z"
    },
    "papermill": {
     "duration": 0.043617,
     "end_time": "2023-07-26T22:02:24.068908",
     "exception": false,
     "start_time": "2023-07-26T22:02:24.025291",
     "status": "completed"
    },
    "tags": []
   },
   "outputs": [
    {
     "data": {
      "text/plain": [
       "Ttest_indResult(statistic=-7.37040597428566, pvalue=1.7033052627831264e-13)"
      ]
     },
     "execution_count": 27,
     "metadata": {},
     "output_type": "execute_result"
    }
   ],
   "source": [
    "# test for significance\n",
    "ttest_ind(psa_dist.converted, ad_dist.converted)"
   ]
  },
  {
   "cell_type": "markdown",
   "id": "3d5f6667",
   "metadata": {
    "papermill": {
     "duration": 0.025039,
     "end_time": "2023-07-26T22:02:24.119075",
     "exception": false,
     "start_time": "2023-07-26T22:02:24.094036",
     "status": "completed"
    },
    "tags": []
   },
   "source": [
    "the results are statistically significant!\n",
    "- pvalue strongly rejects the null hypothesis\n",
    "- difference in conversions are due to the ads"
   ]
  },
  {
   "cell_type": "code",
   "execution_count": 28,
   "id": "fd1c8854",
   "metadata": {
    "execution": {
     "iopub.execute_input": "2023-07-26T22:02:24.173805Z",
     "iopub.status.busy": "2023-07-26T22:02:24.173319Z",
     "iopub.status.idle": "2023-07-26T22:02:24.194832Z",
     "shell.execute_reply": "2023-07-26T22:02:24.193587Z"
    },
    "papermill": {
     "duration": 0.052225,
     "end_time": "2023-07-26T22:02:24.197575",
     "exception": false,
     "start_time": "2023-07-26T22:02:24.145350",
     "status": "completed"
    },
    "tags": []
   },
   "outputs": [
    {
     "data": {
      "text/plain": [
       "(1.8178670360110802, 2.6216295800812137)"
      ]
     },
     "execution_count": 28,
     "metadata": {},
     "output_type": "execute_result"
    }
   ],
   "source": [
    "# conversion rates\n",
    "converts_psa = psa_dist.groupby('converted')['user id'].count()\n",
    "converts_ad = ad_dist.groupby('converted')['user id'].count()\n",
    "(100 * converts_psa[1]/converts_psa[0]), (100 * converts_ad[1]/converts_ad[0])"
   ]
  },
  {
   "cell_type": "markdown",
   "id": "ffbca8f2",
   "metadata": {
    "papermill": {
     "duration": 0.026577,
     "end_time": "2023-07-26T22:02:24.249568",
     "exception": false,
     "start_time": "2023-07-26T22:02:24.222991",
     "status": "completed"
    },
    "tags": []
   },
   "source": [
    "The ad group achieved a higher conversion rate of 2.62% compared to the PSA group's 1.81%. This indicates that the ad campaign was more effective in driving conversions compared to the PSA.\n",
    "\n",
    "The t-test p-value of 0.0000 indicates that the difference in conversion rates between the two groups is statistically significant, meaning that it is highly unlikely to have occurred by chance alone. This provides strong evidence for the observed difference between the two groups.\n",
    "\n",
    "Overall, these results suggest that the ad campaign successfully drove conversions, and the difference in conversion rates between the two groups can be attributed to the impact of the ads."
   ]
  },
  {
   "cell_type": "markdown",
   "id": "3282ec71",
   "metadata": {
    "papermill": {
     "duration": 0.025124,
     "end_time": "2023-07-26T22:02:24.300706",
     "exception": false,
     "start_time": "2023-07-26T22:02:24.275582",
     "status": "completed"
    },
    "tags": []
   },
   "source": [
    "# Thank you for your time!"
   ]
  },
  {
   "cell_type": "code",
   "execution_count": null,
   "id": "96cd0ebf",
   "metadata": {
    "papermill": {
     "duration": 0.024757,
     "end_time": "2023-07-26T22:02:24.350754",
     "exception": false,
     "start_time": "2023-07-26T22:02:24.325997",
     "status": "completed"
    },
    "tags": []
   },
   "outputs": [],
   "source": []
  }
 ],
 "metadata": {
  "kernelspec": {
   "display_name": "Python 3",
   "language": "python",
   "name": "python3"
  },
  "language_info": {
   "codemirror_mode": {
    "name": "ipython",
    "version": 3
   },
   "file_extension": ".py",
   "mimetype": "text/x-python",
   "name": "python",
   "nbconvert_exporter": "python",
   "pygments_lexer": "ipython3",
   "version": "3.10.12"
  },
  "papermill": {
   "default_parameters": {},
   "duration": 29.655677,
   "end_time": "2023-07-26T22:02:25.701902",
   "environment_variables": {},
   "exception": null,
   "input_path": "__notebook__.ipynb",
   "output_path": "__notebook__.ipynb",
   "parameters": {},
   "start_time": "2023-07-26T22:01:56.046225",
   "version": "2.4.0"
  }
 },
 "nbformat": 4,
 "nbformat_minor": 5
}
